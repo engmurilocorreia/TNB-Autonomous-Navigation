{
 "cells": [
  {
   "cell_type": "markdown",
   "id": "b475b083",
   "metadata": {},
   "source": [
    "# Import libraries"
   ]
  },
  {
   "cell_type": "code",
   "execution_count": 1,
   "id": "34297c6a",
   "metadata": {},
   "outputs": [],
   "source": [
    "import numpy as np\n",
    "import pandas as pd\n",
    "from scipy.stats import laplace, norm\n",
    "from sklearn.naive_bayes import GaussianNB\n",
    "from sklearn.svm import OneClassSVM\n",
    "from hmmlearn import hmm\n",
    "from sklearn.metrics import accuracy_score, f1_score, roc_auc_score"
   ]
  },
  {
   "cell_type": "markdown",
   "id": "b101ef49",
   "metadata": {},
   "source": [
    "# Data generation (realistic synthetic)"
   ]
  },
  {
   "cell_type": "code",
   "execution_count": 2,
   "id": "d190a092",
   "metadata": {},
   "outputs": [],
   "source": [
    "np.random.seed(42)\n",
    "T, N_train, N_test = 50, 200, 100\n",
    "alpha_true = 0.8\n",
    "mu0, sigma0 = 0.0, 1.5\n",
    "mu1, sigma1 = 1.0, 1.5\n",
    "\n",
    "def generate_sequence(mu, sigma, alpha, T):\n",
    "    x = np.zeros(T)\n",
    "    for t in range(1, T):\n",
    "        mean_t = mu + alpha * x[t-1]\n",
    "        x[t] = mean_t + np.random.laplace(0, sigma/np.sqrt(2))\n",
    "    return x\n",
    "\n",
    "def generate_dataset(mu, sigma, alpha, T, N):\n",
    "    return np.array([generate_sequence(mu, sigma, alpha, T) for _ in range(N)])\n",
    "\n",
    "# gera treino + teste\n",
    "X0 = generate_dataset(mu0, sigma0, alpha_true, T, N_train+N_test)\n",
    "X1 = generate_dataset(mu1, sigma1, alpha_true, T, N_train+N_test)\n",
    "y0 = np.zeros(N_train+N_test); y1 = np.ones(N_train+N_test)\n",
    "\n",
    "X = np.vstack((X0, X1))\n",
    "y = np.hstack((y0, y1))\n",
    "perm = np.random.permutation(len(y))\n",
    "X, y = X[perm], y[perm]\n",
    "\n",
    "X_train = np.vstack((X0[:N_train], X1[:N_train]))\n",
    "y_train = np.hstack((y0[:N_train], y1[:N_train]))\n",
    "X_test  = np.vstack((X0[N_train:], X1[N_train:]))\n",
    "y_test  = np.hstack((y0[N_train:], y1[N_train:]))\n",
    "\n",
    "\n",
    "# Estima parâmetros TNB\n",
    "def estimate_parameters(X, n_iter=5):\n",
    "    mu = np.mean(X[:,1:])\n",
    "    alpha = 0.0\n",
    "    for _ in range(n_iter):\n",
    "        num = np.sum((X[:,1:]-mu)*X[:,:-1])\n",
    "        den = np.sum((X[:,:-1]-mu)**2)\n",
    "        alpha = 0.0 if den==0 else num/den\n",
    "        mu = np.mean(X[:,1:] - alpha*X[:,:-1])\n",
    "    residuals = X[:,1:] - (mu + alpha*X[:,:-1])\n",
    "    sigma = np.sqrt(np.mean(residuals**2))\n",
    "    return mu, sigma, alpha\n",
    "\n",
    "mu0_hat, sigma0_hat, alpha0_hat = estimate_parameters(X_train[y_train==0])\n",
    "mu1_hat, sigma1_hat, alpha1_hat = estimate_parameters(X_train[y_train==1])"
   ]
  },
  {
   "cell_type": "markdown",
   "id": "ceaadbf0",
   "metadata": {},
   "source": [
    "# Define models"
   ]
  },
  {
   "cell_type": "code",
   "execution_count": 4,
   "id": "dc2dd858",
   "metadata": {},
   "outputs": [
    {
     "name": "stdout",
     "output_type": "stream",
     "text": [
      "           model  accuracy        f1     auc\n",
      "0     GaussianNB     1.000  1.000000  1.0000\n",
      "1            HMM     0.985  0.985222  0.9720\n",
      "2    OneClassSVM     0.815  0.843882  0.9935\n",
      "3  TNB (Laplace)     0.960  0.961165  0.9981\n"
     ]
    }
   ],
   "source": [
    "# Classic NB (Gaussian)\n",
    "gnb = GaussianNB().fit(X_train, y_train)\n",
    "y_nb = gnb.predict(X_test)\n",
    "p_nb = gnb.predict_proba(X_test)[:,1]\n",
    "\n",
    "# HMM\n",
    "models_hmm = {}\n",
    "for cls, (m_hat, s_hat) in enumerate([(mu0_hat, sigma0_hat),\n",
    "                                       (mu1_hat, sigma1_hat)]):\n",
    "    model = hmm.GaussianHMM(n_components=2,\n",
    "                            covariance_type='diag',\n",
    "                            n_iter=100,\n",
    "                            random_state=42)\n",
    "    # treina concatenando as janelas da classe\n",
    "    Xc = X_train[y_train == cls]\n",
    "    Xc_cat = Xc.reshape(-1, 1)\n",
    "    lengths = [T] * len(Xc)\n",
    "    model.fit(Xc_cat, lengths)\n",
    "    models_hmm[cls] = model\n",
    "\n",
    "# pontua cada janela de teste separadamente\n",
    "scores0 = []\n",
    "scores1 = []\n",
    "for x in X_test:\n",
    "    x_cat = x.reshape(-1, 1)\n",
    "    scores0.append(models_hmm[0].score(x_cat, [T]))\n",
    "    scores1.append(models_hmm[1].score(x_cat, [T]))\n",
    "scores0 = np.array(scores0)\n",
    "scores1 = np.array(scores1)\n",
    "\n",
    "# predições e probabilidades (proxy)\n",
    "y_hmm = (scores1 > scores0).astype(int)\n",
    "p_hmm = scores1\n",
    "\n",
    "# One-Class SVM\n",
    "oc0 = OneClassSVM(gamma='auto').fit(X_train[y_train==0])\n",
    "oc1 = OneClassSVM(gamma='auto').fit(X_train[y_train==1])\n",
    "s0 = oc0.decision_function(X_test)\n",
    "s1 = oc1.decision_function(X_test)\n",
    "y_svm = (s1 > s0).astype(int)\n",
    "p_svm = s1\n",
    "\n",
    "# Temporal Naive Bayes\n",
    "def tnb_predict(X):\n",
    "    preds, scores = [], []\n",
    "    for x in X:\n",
    "        ll0 = np.log(0.5); ll1 = np.log(0.5)\n",
    "        for t in range(1, len(x)):\n",
    "            ll0 += norm.logpdf(x[t], loc=mu0_hat + alpha0_hat*x[t-1], scale=sigma0_hat)\n",
    "            ll1 += norm.logpdf(x[t], loc=mu1_hat + alpha1_hat*x[t-1], scale=sigma1_hat)\n",
    "        preds.append(int(ll1>ll0))\n",
    "        scores.append(ll1 - ll0)\n",
    "    return np.array(preds), np.array(scores)\n",
    "\n",
    "y_tnb, p_tnb = tnb_predict(X_test)\n",
    "\n",
    "# Monta resultados e salva CSV\n",
    "models = [\"GaussianNB\",\"HMM\",\"OneClassSVM\",\"TNB (Laplace)\"]\n",
    "res = []\n",
    "for name, y_pred, p in zip(models,[y_nb,y_hmm,y_svm,y_tnb],[p_nb,p_hmm,p_svm,p_tnb]):\n",
    "    res.append({\n",
    "        \"model\":   name,\n",
    "        \"accuracy\": accuracy_score(y_test, y_pred),\n",
    "        \"f1\":       f1_score(y_test, y_pred),\n",
    "        \"auc\":      roc_auc_score(y_test, p)\n",
    "    })\n",
    "\n",
    "df = pd.DataFrame(res)\n",
    "df.to_csv(\"realistic_benchmark_results.csv\", index=False)\n",
    "print(df)"
   ]
  }
 ],
 "metadata": {
  "kernelspec": {
   "display_name": "base",
   "language": "python",
   "name": "python3"
  },
  "language_info": {
   "codemirror_mode": {
    "name": "ipython",
    "version": 3
   },
   "file_extension": ".py",
   "mimetype": "text/x-python",
   "name": "python",
   "nbconvert_exporter": "python",
   "pygments_lexer": "ipython3",
   "version": "3.12.3"
  }
 },
 "nbformat": 4,
 "nbformat_minor": 5
}
