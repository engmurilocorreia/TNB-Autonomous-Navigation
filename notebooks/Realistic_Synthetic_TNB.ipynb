{
 "cells": [
  {
   "cell_type": "markdown",
   "id": "e8ad50b9",
   "metadata": {},
   "source": [
    "# Temporal Naive Bayes (TNB): Validação em Cenário Realista\n",
    "\n",
    "## Objetivo  \n",
    "Testar o TNB em condições mais desafiadoras:  \n",
    "- Parâmetros estimados a partir dos dados.  \n",
    "- Sobreposição entre classes ($\\mu_0 = 0.0$, $\\mu_1 = 1.0$).  \n",
    "- Ruído não-Gaussiano (Laplace).  \n",
    "\n",
    "## Passos  \n",
    "1. Geração de dados com sobreposição e ruído não-Gaussiano.  \n",
    "2. Estimação de $\\alpha$, $\\mu$, e $\\sigma$ via MLE.  \n",
    "3. Comparação de desempenho: TNB vs. Naive Bayes clássico.  \n"
   ]
  },
  {
   "cell_type": "markdown",
   "id": "2ab4d7eb",
   "metadata": {},
   "source": [
    "## Geração de Dados Sintéticos\n",
    "\n",
    "### Modelo Autoregressivo (AR(1))\n",
    "Para simular séries temporais com dependência temporal:  \n",
    "$$x^{(t)} = \\mu + \\alpha x^{(t-1)} + \\epsilon, \\quad \\epsilon \\sim \\mathcal{N}(0, \\sigma^2)$$\n",
    "\n",
    "\n",
    "**Parâmetros**:  \n",
    "- `T = 50`: Comprimento das séries  \n",
    "- `N_train = 200`, `N_test = 100`: Amostras por classe  \n",
    "- Classes diferenciadas por médias (\\(\\mu_0 = 0.0\\), \\(\\mu_1 = 2.0\\))  "
   ]
  },
  {
   "cell_type": "code",
   "execution_count": 39,
   "id": "87b158d1",
   "metadata": {},
   "outputs": [],
   "source": [
    "import numpy as np\n",
    "import matplotlib.pyplot as plt\n",
    "from scipy.stats import laplace\n",
    "from sklearn.metrics import accuracy_score, confusion_matrix, classification_report, roc_curve, auc\n",
    "from tqdm import tqdm\n",
    "\n",
    "# Configurações iniciais\n",
    "np.random.seed(42)\n",
    "T = 50            # Comprimento de cada série temporal\n",
    "N_train = 200     # Número de séries por classe para treinamento\n",
    "N_test = 100      # Número de séries por classe para teste"
   ]
  },
  {
   "cell_type": "markdown",
   "id": "cf136a4c",
   "metadata": {},
   "source": [
    "# Geração de dados sintéticos"
   ]
  },
  {
   "cell_type": "code",
   "execution_count": 40,
   "id": "b2455620",
   "metadata": {},
   "outputs": [],
   "source": [
    "# Parâmetros verdadeiros para geração dos dados\n",
    "alpha_true = 0.8\n",
    "mu0_true, sigma0_true = 0.0, 1.5  # Classe 0\n",
    "mu1_true, sigma1_true = 1.0, 1.5  # Classe 1\n",
    "\n",
    "def generate_sequence(mu, sigma, alpha, T):\n",
    "    \"\"\"Gera uma sequência temporal com dependência AR(1) e ruído Laplace.\"\"\"\n",
    "    x = np.zeros(T)\n",
    "    for t in range(1, T):\n",
    "        mean_t = mu + alpha * x[t-1]\n",
    "        x[t] = mean_t + np.random.laplace(0, sigma/np.sqrt(2))\n",
    "    return x\n",
    "\n",
    "def generate_dataset(mu, sigma, alpha, T, N):\n",
    "    \"\"\"Gera um conjunto de N sequências temporais.\"\"\"\n",
    "    return np.array([generate_sequence(mu, sigma, alpha, T) for _ in range(N)])\n",
    "\n",
    "# Gerar conjuntos de treino e teste\n",
    "X_train0 = generate_dataset(mu0_true, sigma0_true, alpha_true, T, N_train)\n",
    "X_train1 = generate_dataset(mu1_true, sigma1_true, alpha_true, T, N_train)\n",
    "X_test0 = generate_dataset(mu0_true, sigma0_true, alpha_true, T, N_test)\n",
    "X_test1 = generate_dataset(mu1_true, sigma1_true, alpha_true, T, N_test)\n",
    "\n",
    "X_train = np.concatenate([X_train0, X_train1])\n",
    "y_train = np.concatenate([np.zeros(N_train), np.ones(N_train)])\n",
    "X_test = np.concatenate([X_test0, X_test1])\n",
    "y_test = np.concatenate([np.zeros(N_test), np.ones(N_test)])"
   ]
  },
  {
   "cell_type": "markdown",
   "id": "baacbe64",
   "metadata": {},
   "source": [
    "# Estimação de Parâmetros"
   ]
  },
  {
   "cell_type": "code",
   "execution_count": 43,
   "id": "9eb8b36c",
   "metadata": {},
   "outputs": [
    {
     "name": "stdout",
     "output_type": "stream",
     "text": [
      "Parâmetros estimados - Classe 0: mu=-0.03, sigma=1.48, alpha=0.79\n",
      "Parâmetros estimados - Classe 1: mu=0.38, sigma=1.56, alpha=0.94\n"
     ]
    }
   ],
   "source": [
    "def estimate_alpha(X, mu):\n",
    "    \"\"\"Estimativa do coeficiente de autocorrelação.\"\"\"\n",
    "    numerator = np.sum((X[:, 1:] - mu) * X[:, :-1])\n",
    "    denominator = np.sum((X[:, :-1] - mu) ** 2)\n",
    "    return numerator / denominator\n",
    "\n",
    "def estimate_mu(X):\n",
    "    \"\"\"Estimativa da média dos dados, ignorando o instante inicial.\"\"\"\n",
    "    return np.mean(X[:, 1:])\n",
    "\n",
    "def estimate_sigma(X, mu, alpha):\n",
    "    \"\"\"Estimativa do desvio padrão dos resíduos.\"\"\"\n",
    "    residuals = X[:, 1:] - (mu + alpha * X[:, :-1])\n",
    "    return np.std(residuals)\n",
    "\n",
    "# Estimação iterativa dos parâmetros\n",
    "def estimate_parameters(X, n_iter=5):\n",
    "    \"\"\"Estimativa iterativa de mu, sigma e alpha.\"\"\"\n",
    "    mu = np.mean(X[:, 1:])  # Estimativa inicial de mu\n",
    "    alpha = 0.0  # Inicialização\n",
    "    \n",
    "    # Iteração para estimar mu e alpha\n",
    "    for _ in range(n_iter):\n",
    "        alpha = np.sum((X[:, 1:] - mu) * X[:, :-1]) / np.sum((X[:, :-1] - mu) ** 2)\n",
    "        mu = np.mean(X[:, 1:] - alpha * X[:, :-1])\n",
    "    \n",
    "    # Estimativa de sigma\n",
    "    residuals = X[:, 1:] - (mu + alpha * X[:, :-1])\n",
    "    sigma = np.sqrt(np.mean(residuals**2))  # RMS para Laplace\n",
    "    \n",
    "    return mu, sigma, alpha\n",
    "\n",
    "# Estimar parâmetros para ambas as classes\n",
    "mu0_hat, sigma0_hat, alpha0_hat = estimate_parameters(X_train0)\n",
    "mu1_hat, sigma1_hat, alpha1_hat = estimate_parameters(X_train1)\n",
    "\n",
    "print(f\"Parâmetros estimados - Classe 0: mu={mu0_hat:.2f}, sigma={sigma0_hat:.2f}, alpha={alpha0_hat:.2f}\")\n",
    "print(f\"Parâmetros estimados - Classe 1: mu={mu1_hat:.2f}, sigma={sigma1_hat:.2f}, alpha={alpha1_hat:.2f}\")"
   ]
  },
  {
   "cell_type": "markdown",
   "id": "10ea4696",
   "metadata": {},
   "source": [
    "## Implementação do Temporal Naive Bayes\n",
    "\n",
    "A modificação no Naive Bayes para incorporar a dependência temporal.\n",
    "A equação utilizada para o TNB é:  \n",
    "\n",
    "$$P(C_k | X^{(t)}) \\propto P(C_k) \\prod_{t=1}^{T} P(x^{(t)} | C_k,x^{(t-1)})$$\n",
    "\n",
    "Utilizou-se a função `norm.logpdf` para calcular o log da densidade de probabilidade da distribuição normal com média $\\mu + \\alpha \\cdot x^{t-1}$ e variância $\\sigma^2$\n"
   ]
  },
  {
   "cell_type": "code",
   "execution_count": 44,
   "id": "84a72798",
   "metadata": {},
   "outputs": [],
   "source": [
    "def log_likelihood_TNB(x, mu, sigma, alpha):\n",
    "    \"\"\"Log-verossimilhança para o modelo TNB com ruído Laplace.\"\"\"\n",
    "    ll = 0.0\n",
    "    for t in range(1, len(x)):\n",
    "        mean_t = mu + alpha * x[t-1]\n",
    "        ll += laplace.logpdf(x[t], loc=mean_t, scale=sigma/np.sqrt(2))\n",
    "    return ll\n",
    "\n",
    "def classify_sequence(seq, params0, params1):\n",
    "    \"\"\"Classifica uma sequência usando os parâmetros estimados.\"\"\"\n",
    "    mu0, sigma0, alpha0 = params0\n",
    "    mu1, sigma1, alpha1 = params1\n",
    "    ll0 = log_likelihood_TNB(seq, mu0, sigma0, alpha0)\n",
    "    ll1 = log_likelihood_TNB(seq, mu1, sigma1, alpha1)\n",
    "    return 0 if ll0 > ll1 else 1"
   ]
  },
  {
   "cell_type": "markdown",
   "id": "ef4d1243",
   "metadata": {},
   "source": [
    "# Avaliação do Modelo\n",
    "Cálculo de Acurácia, Matriz de Confusão e Relatório de Classificação"
   ]
  },
  {
   "cell_type": "code",
   "execution_count": 45,
   "id": "e4a2b8d9",
   "metadata": {},
   "outputs": [
    {
     "name": "stdout",
     "output_type": "stream",
     "text": [
      "Acurácia: 0.990\n",
      "\n",
      "Matriz de Confusão:\n",
      "[[ 98   2]\n",
      " [  0 100]]\n",
      "\n",
      "Relatório de Classificação:\n",
      "              precision    recall  f1-score   support\n",
      "\n",
      "    Classe 0       1.00      0.98      0.99       100\n",
      "    Classe 1       0.98      1.00      0.99       100\n",
      "\n",
      "    accuracy                           0.99       200\n",
      "   macro avg       0.99      0.99      0.99       200\n",
      "weighted avg       0.99      0.99      0.99       200\n",
      "\n"
     ]
    },
    {
     "data": {
      "image/png": "[encoded data removed]",
      "text/plain": [
       "<Figure size 800x500 with 1 Axes>"
      ]
     },
     "metadata": {},
     "output_type": "display_data"
    }
   ],
   "source": [
    "params0 = (mu0_hat, sigma0_hat, alpha0_hat)\n",
    "params1 = (mu1_hat, sigma1_hat, alpha1_hat)\n",
    "\n",
    "# Classificação do conjunto de teste\n",
    "y_pred = np.array([classify_sequence(x, params0, params1) for x in X_test])\n",
    "\n",
    "# Métricas de desempenho\n",
    "print(f\"Acurácia: {accuracy_score(y_test, y_pred):.3f}\")\n",
    "print(\"\\nMatriz de Confusão:\")\n",
    "print(confusion_matrix(y_test, y_pred))\n",
    "print(\"\\nRelatório de Classificação:\")\n",
    "print(classification_report(y_test, y_pred, target_names=[\"Classe 0\", \"Classe 1\"]))\n",
    "\n",
    "# Curva ROC\n",
    "scores = np.array([log_likelihood_TNB(x, *params1) - log_likelihood_TNB(x, *params0) for x in X_test])\n",
    "fpr, tpr, _ = roc_curve(y_test, scores)\n",
    "plt.figure(figsize=(8,5))\n",
    "plt.plot(fpr, tpr, label=f'AUC = {auc(fpr, tpr):.2f}')\n",
    "plt.plot([0,1], [0,1], 'k--')\n",
    "plt.xlabel('Taxa de Falsos Positivos')\n",
    "plt.ylabel('Taxa de Verdadeiros Positivos')\n",
    "plt.title('Curva ROC')\n",
    "plt.legend()\n",
    "plt.show()"
   ]
  },
  {
   "cell_type": "markdown",
   "id": "c68251e2",
   "metadata": {},
   "source": [
    "# Comparação com o Naive Bayes Clássico (Baseline)\n",
    "\n",
    "Nesta etapa, implementamos o Naive Bayes clássico que trata cada instância temporal de forma independente, ou seja, sem incorporar a dependência do valor anterior.\n",
    "A fórmula de verossimilhança usada é:\n",
    "\n",
    "$$P(C_k | X) \\propto P(C_k) \\cdot \\prod_{i=1}^{n} P(x_i | C_k)$$\n",
    "\n",
    "Em seguida, comparamos a acurácia do modelo clássico com a do TNB. No seu exemplo, o TNB apresentou 99,0% de acurácia enquanto o modelo clássico alcançou cerca de 70,0%, indicando a vantagem de incorporar a dependência temporal."
   ]
  },
  {
   "cell_type": "code",
   "execution_count": 46,
   "id": "5d2bb71d",
   "metadata": {},
   "outputs": [
    {
     "name": "stdout",
     "output_type": "stream",
     "text": [
      "\n",
      "Acurácia do Naive Bayes Clássico: 0.700\n"
     ]
    }
   ],
   "source": [
    "def log_likelihood_classic(x, mu, sigma):\n",
    "    \"\"\"Log-verossimilhança para modelo clássico com ruído Laplace.\"\"\"\n",
    "    return np.sum(laplace.logpdf(x[1:], loc=mu, scale=sigma/np.sqrt(2)))\n",
    "\n",
    "def classic_classifier(x, params0, params1):\n",
    "    mu0, sigma0, _ = params0\n",
    "    mu1, sigma1, _ = params1\n",
    "    ll0 = log_likelihood_classic(x, mu0, sigma0)\n",
    "    ll1 = log_likelihood_classic(x, mu1, sigma1)\n",
    "    return 0 if ll0 > ll1 else 1\n",
    "\n",
    "y_pred_classic = np.array([classic_classifier(x, params0, params1) for x in X_test])\n",
    "print(f\"\\nAcurácia do Naive Bayes Clássico: {accuracy_score(y_test, y_pred_classic):.3f}\")"
   ]
  }
 ],
 "metadata": {
  "kernelspec": {
   "display_name": "base",
   "language": "python",
   "name": "python3"
  },
  "language_info": {
   "codemirror_mode": {
    "name": "ipython",
    "version": 3
   },
   "file_extension": ".py",
   "mimetype": "text/x-python",
   "name": "python",
   "nbconvert_exporter": "python",
   "pygments_lexer": "ipython3",
   "version": "3.12.3"
  }
 },
 "nbformat": 4,
 "nbformat_minor": 5
}
